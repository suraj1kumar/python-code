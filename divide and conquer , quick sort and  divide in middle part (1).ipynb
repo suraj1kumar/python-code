{
 "cells": [
  {
   "cell_type": "code",
   "execution_count": 13,
   "id": "60b624d0",
   "metadata": {},
   "outputs": [
    {
     "name": "stdout",
     "output_type": "stream",
     "text": [
      "array('i', [1, 2, 3, 4])\n",
      "array('i', [5, 6, 7, 8])\n",
      "array('i', [9, 10, 11, 12])\n"
     ]
    }
   ],
   "source": [
    "#  create a array divide in three part.\n",
    "import array\n",
    "from array import*\n",
    "def array_divide(array):\n",
    "    global part1 ,part2, part3\n",
    "    n= len(array)\n",
    "    mid=n//3\n",
    "    part1=arr[:mid]\n",
    "    part2=arr[mid:mid*2]\n",
    "    part3=arr[mid*2:]\n",
    "arr=array('i',[1,2,3,4,5,6,7,8,9,10,11,12])\n",
    "array_divide(arr)\n",
    "print(part1)\n",
    "print(part2)\n",
    "print(part3)          \n",
    "          \n",
    "          "
   ]
  },
  {
   "cell_type": "code",
   "execution_count": 14,
   "id": "91aa71b8",
   "metadata": {},
   "outputs": [
    {
     "name": "stdout",
     "output_type": "stream",
     "text": [
      "array('i', [4, 6, 2, 5, 1, 3])\n"
     ]
    }
   ],
   "source": [
    "\n",
    "# write a user defind function to swap middle two elements in an array in ascending order\n",
    "#A=[4,6,5,2,1,3]\n",
    "import array\n",
    "from array import*\n",
    "def swap(arr):\n",
    "    mid=len(A)//2\n",
    "    if A[mid-1]> A[mid]:\n",
    "        A[mid-1],A[mid]=A[mid],A[mid-1]\n",
    "A=array('i',[4,6,5,2,1,3])\n",
    "swap(A)\n",
    "print(A)\n",
    "    "
   ]
  },
  {
   "cell_type": "code",
   "execution_count": 15,
   "id": "08c24e71",
   "metadata": {},
   "outputs": [],
   "source": [
    "import array\n",
    "from array import*\n",
    "def swap(arr):\n",
    "    mid=len(A)//2\n",
    "    if\n"
   ]
  },
  {
   "cell_type": "code",
   "execution_count": null,
   "id": "a4ae20e8",
   "metadata": {},
   "outputs": [],
   "source": []
  }
 ],
 "metadata": {
  "kernelspec": {
   "display_name": "Python 3 (ipykernel)",
   "language": "python",
   "name": "python3"
  },
  "language_info": {
   "codemirror_mode": {
    "name": "ipython",
    "version": 3
   },
   "file_extension": ".py",
   "mimetype": "text/x-python",
   "name": "python",
   "nbconvert_exporter": "python",
   "pygments_lexer": "ipython3",
   "version": "3.11.5"
  }
 },
 "nbformat": 4,
 "nbformat_minor": 5
}
