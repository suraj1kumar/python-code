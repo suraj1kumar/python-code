{
 "cells": [
  {
   "cell_type": "code",
   "execution_count": 1,
   "id": "d56aef38",
   "metadata": {},
   "outputs": [
    {
     "name": "stdout",
     "output_type": "stream",
     "text": [
      "enter any number123\n",
      "reverse number is given= 3\n",
      "reverse number is given= 32\n",
      "reverse number is given= 321\n"
     ]
    }
   ],
   "source": [
    "# mid term exam question\n",
    "#Q1  wap to find reverse of any number.\n",
    "n=int(input(\"enter any number\"))\n",
    "rev=0\n",
    "while(n>0):\n",
    "    rev=(rev*10)+n%10\n",
    "    n=n//10\n",
    "    print(\"reverse number is given=\",rev)"
   ]
  },
  {
   "cell_type": "code",
   "execution_count": null,
   "id": "850ce4b9",
   "metadata": {},
   "outputs": [
    {
     "name": "stdout",
     "output_type": "stream",
     "text": [
      "enter any number3\n"
     ]
    }
   ],
   "source": [
    "# Q2 wap to check whether given number is  prime number or not?\n",
    "\n",
    "n=int(input(\"enter any number\"))\n",
    "i=1\n",
    "count=0\n",
    "while(i<=n):\n",
    "    if(n%i==0):\n",
    "        count=count+1\n",
    "        i=i+1\n",
    "if(count==2):\n",
    "    print(\"the no is prime number\")\n",
    "else:\n",
    "    print(\"the no is not prime number\")"
   ]
  },
  {
   "cell_type": "code",
   "execution_count": 7,
   "id": "71622bde",
   "metadata": {},
   "outputs": [
    {
     "name": "stdout",
     "output_type": "stream",
     "text": [
      "enter any number3\n",
      "number is prime\n"
     ]
    }
   ],
   "source": [
    "n=int(input(\"enter any number\"))\n",
    "i=1\n",
    "count=0\n",
    "while(i<=n):\n",
    "    if(n%i==0):\n",
    "        count=count+1\n",
    "    i=i+1\n",
    "if(count==2):\n",
    "    print(\"number is prime\")\n",
    "else:\n",
    "    print(\"number is not prime\")"
   ]
  },
  {
   "cell_type": "code",
   "execution_count": null,
   "id": "dc11d2f1",
   "metadata": {},
   "outputs": [],
   "source": []
  },
  {
   "cell_type": "code",
   "execution_count": null,
   "id": "84814759",
   "metadata": {},
   "outputs": [],
   "source": []
  }
 ],
 "metadata": {
  "kernelspec": {
   "display_name": "Python 3 (ipykernel)",
   "language": "python",
   "name": "python3"
  },
  "language_info": {
   "codemirror_mode": {
    "name": "ipython",
    "version": 3
   },
   "file_extension": ".py",
   "mimetype": "text/x-python",
   "name": "python",
   "nbconvert_exporter": "python",
   "pygments_lexer": "ipython3",
   "version": "3.11.5"
  }
 },
 "nbformat": 4,
 "nbformat_minor": 5
}
